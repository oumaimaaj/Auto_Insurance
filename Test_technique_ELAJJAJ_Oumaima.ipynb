{
  "nbformat": 4,
  "nbformat_minor": 0,
  "metadata": {
    "colab": {
      "name": "Test_technique_ELAJJAJ_Oumaima.ipynb",
      "provenance": [],
      "collapsed_sections": []
    },
    "kernelspec": {
      "name": "python3",
      "display_name": "Python 3"
    }
  },
  "cells": [
    {
      "cell_type": "markdown",
      "metadata": {
        "id": "EcAIhp9CIaqI"
      },
      "source": [
        "**1-  IMPORTS** "
      ]
    },
    {
      "cell_type": "markdown",
      "metadata": {
        "id": "Z7c-KSm5esRy"
      },
      "source": [
        "First we imported all the necesary libraries for the project."
      ]
    },
    {
      "cell_type": "code",
      "metadata": {
        "id": "ywhDmv5Kt0Q2"
      },
      "source": [
        "# Importing libraries\r\n",
        "import pandas as pd\r\n",
        "import numpy as np\r\n",
        "from google.colab import drive\r\n",
        "import copy \r\n",
        "import matplotlib.pyplot as plt\r\n",
        "from sklearn.model_selection import train_test_split\r\n",
        "from sklearn.linear_model import LogisticRegression\r\n",
        "from sklearn.metrics import recall_score, precision_score, f1_score, classification_report, roc_curve, roc_auc_score, accuracy_score, confusion_matrix\r\n",
        "from sklearn.svm import SVC\r\n",
        "from sklearn.tree import DecisionTreeClassifier\r\n",
        "from sklearn.naive_bayes import GaussianNB"
      ],
      "execution_count": 9,
      "outputs": []
    },
    {
      "cell_type": "markdown",
      "metadata": {
        "id": "c7N_wHA0IlC0"
      },
      "source": [
        "**2 -  LOAD THE DATASET**"
      ]
    },
    {
      "cell_type": "markdown",
      "metadata": {
        "id": "i6zLEBaGcADN"
      },
      "source": [
        "In this section, we loaded our train and test dataset from csv files source, and displayed the data and the shape of the dataframe."
      ]
    },
    {
      "cell_type": "code",
      "metadata": {
        "colab": {
          "base_uri": "https://localhost:8080/"
        },
        "id": "Hzot8sgZuvfW",
        "outputId": "5d7dc0d3-6a51-459d-9122-4555ecb85eaa"
      },
      "source": [
        "from google.colab import drive\r\n",
        "drive.mount('/content/gdrive/')\r\n",
        "# load data \r\n",
        "train_auto = pd.read_csv(\"/content/gdrive/My Drive/Datasets/test_technique/train_auto.csv\", sep=\",\",index_col=\"INDEX\")\r\n",
        "test_auto = pd.read_csv(\"/content/gdrive/My Drive/Datasets/test_technique/test_auto.csv\", sep=\",\",index_col=\"INDEX\")"
      ],
      "execution_count": 10,
      "outputs": [
        {
          "output_type": "stream",
          "text": [
            "Drive already mounted at /content/gdrive/; to attempt to forcibly remount, call drive.mount(\"/content/gdrive/\", force_remount=True).\n"
          ],
          "name": "stdout"
        }
      ]
    },
    {
      "cell_type": "code",
      "metadata": {
        "colab": {
          "base_uri": "https://localhost:8080/",
          "height": 287
        },
        "id": "VCXylI58vvkk",
        "outputId": "df80d98d-bf82-4c15-ad4c-5122ce1ce635"
      },
      "source": [
        "# print the train dataframe\r\n",
        "train_auto.head(3)"
      ],
      "execution_count": 11,
      "outputs": [
        {
          "output_type": "execute_result",
          "data": {
            "text/html": [
              "<div>\n",
              "<style scoped>\n",
              "    .dataframe tbody tr th:only-of-type {\n",
              "        vertical-align: middle;\n",
              "    }\n",
              "\n",
              "    .dataframe tbody tr th {\n",
              "        vertical-align: top;\n",
              "    }\n",
              "\n",
              "    .dataframe thead th {\n",
              "        text-align: right;\n",
              "    }\n",
              "</style>\n",
              "<table border=\"1\" class=\"dataframe\">\n",
              "  <thead>\n",
              "    <tr style=\"text-align: right;\">\n",
              "      <th></th>\n",
              "      <th>TARGET_FLAG</th>\n",
              "      <th>TARGET_AMT</th>\n",
              "      <th>KIDSDRIV</th>\n",
              "      <th>AGE</th>\n",
              "      <th>HOMEKIDS</th>\n",
              "      <th>YOJ</th>\n",
              "      <th>INCOME</th>\n",
              "      <th>PARENT1</th>\n",
              "      <th>HOME_VAL</th>\n",
              "      <th>MSTATUS</th>\n",
              "      <th>SEX</th>\n",
              "      <th>EDUCATION</th>\n",
              "      <th>JOB</th>\n",
              "      <th>TRAVTIME</th>\n",
              "      <th>CAR_USE</th>\n",
              "      <th>BLUEBOOK</th>\n",
              "      <th>TIF</th>\n",
              "      <th>CAR_TYPE</th>\n",
              "      <th>RED_CAR</th>\n",
              "      <th>OLDCLAIM</th>\n",
              "      <th>CLM_FREQ</th>\n",
              "      <th>REVOKED</th>\n",
              "      <th>MVR_PTS</th>\n",
              "      <th>CAR_AGE</th>\n",
              "      <th>URBANICITY</th>\n",
              "    </tr>\n",
              "    <tr>\n",
              "      <th>INDEX</th>\n",
              "      <th></th>\n",
              "      <th></th>\n",
              "      <th></th>\n",
              "      <th></th>\n",
              "      <th></th>\n",
              "      <th></th>\n",
              "      <th></th>\n",
              "      <th></th>\n",
              "      <th></th>\n",
              "      <th></th>\n",
              "      <th></th>\n",
              "      <th></th>\n",
              "      <th></th>\n",
              "      <th></th>\n",
              "      <th></th>\n",
              "      <th></th>\n",
              "      <th></th>\n",
              "      <th></th>\n",
              "      <th></th>\n",
              "      <th></th>\n",
              "      <th></th>\n",
              "      <th></th>\n",
              "      <th></th>\n",
              "      <th></th>\n",
              "      <th></th>\n",
              "    </tr>\n",
              "  </thead>\n",
              "  <tbody>\n",
              "    <tr>\n",
              "      <th>1</th>\n",
              "      <td>0</td>\n",
              "      <td>0.0</td>\n",
              "      <td>0</td>\n",
              "      <td>60.0</td>\n",
              "      <td>0</td>\n",
              "      <td>11.0</td>\n",
              "      <td>$67,349</td>\n",
              "      <td>No</td>\n",
              "      <td>$0</td>\n",
              "      <td>z_No</td>\n",
              "      <td>M</td>\n",
              "      <td>PhD</td>\n",
              "      <td>Professional</td>\n",
              "      <td>14</td>\n",
              "      <td>Private</td>\n",
              "      <td>$14,230</td>\n",
              "      <td>11</td>\n",
              "      <td>Minivan</td>\n",
              "      <td>yes</td>\n",
              "      <td>$4,461</td>\n",
              "      <td>2</td>\n",
              "      <td>No</td>\n",
              "      <td>3</td>\n",
              "      <td>18.0</td>\n",
              "      <td>Highly Urban/ Urban</td>\n",
              "    </tr>\n",
              "    <tr>\n",
              "      <th>2</th>\n",
              "      <td>0</td>\n",
              "      <td>0.0</td>\n",
              "      <td>0</td>\n",
              "      <td>43.0</td>\n",
              "      <td>0</td>\n",
              "      <td>11.0</td>\n",
              "      <td>$91,449</td>\n",
              "      <td>No</td>\n",
              "      <td>$257,252</td>\n",
              "      <td>z_No</td>\n",
              "      <td>M</td>\n",
              "      <td>z_High School</td>\n",
              "      <td>z_Blue Collar</td>\n",
              "      <td>22</td>\n",
              "      <td>Commercial</td>\n",
              "      <td>$14,940</td>\n",
              "      <td>1</td>\n",
              "      <td>Minivan</td>\n",
              "      <td>yes</td>\n",
              "      <td>$0</td>\n",
              "      <td>0</td>\n",
              "      <td>No</td>\n",
              "      <td>0</td>\n",
              "      <td>1.0</td>\n",
              "      <td>Highly Urban/ Urban</td>\n",
              "    </tr>\n",
              "    <tr>\n",
              "      <th>4</th>\n",
              "      <td>0</td>\n",
              "      <td>0.0</td>\n",
              "      <td>0</td>\n",
              "      <td>35.0</td>\n",
              "      <td>1</td>\n",
              "      <td>10.0</td>\n",
              "      <td>$16,039</td>\n",
              "      <td>No</td>\n",
              "      <td>$124,191</td>\n",
              "      <td>Yes</td>\n",
              "      <td>z_F</td>\n",
              "      <td>z_High School</td>\n",
              "      <td>Clerical</td>\n",
              "      <td>5</td>\n",
              "      <td>Private</td>\n",
              "      <td>$4,010</td>\n",
              "      <td>4</td>\n",
              "      <td>z_SUV</td>\n",
              "      <td>no</td>\n",
              "      <td>$38,690</td>\n",
              "      <td>2</td>\n",
              "      <td>No</td>\n",
              "      <td>3</td>\n",
              "      <td>10.0</td>\n",
              "      <td>Highly Urban/ Urban</td>\n",
              "    </tr>\n",
              "  </tbody>\n",
              "</table>\n",
              "</div>"
            ],
            "text/plain": [
              "       TARGET_FLAG  TARGET_AMT  KIDSDRIV  ...  MVR_PTS  CAR_AGE           URBANICITY\n",
              "INDEX                                     ...                                       \n",
              "1                0         0.0         0  ...        3     18.0  Highly Urban/ Urban\n",
              "2                0         0.0         0  ...        0      1.0  Highly Urban/ Urban\n",
              "4                0         0.0         0  ...        3     10.0  Highly Urban/ Urban\n",
              "\n",
              "[3 rows x 25 columns]"
            ]
          },
          "metadata": {
            "tags": []
          },
          "execution_count": 11
        }
      ]
    },
    {
      "cell_type": "code",
      "metadata": {
        "colab": {
          "base_uri": "https://localhost:8080/"
        },
        "id": "2XMcF5B5wW1j",
        "outputId": "66889ea6-8596-4629-ada2-95362fed6e50"
      },
      "source": [
        "# shape of the train dataset before the preprocessing (8161 observations and 25 variables)\r\n",
        "print(train_auto.shape)"
      ],
      "execution_count": 12,
      "outputs": [
        {
          "output_type": "stream",
          "text": [
            "(8161, 25)\n"
          ],
          "name": "stdout"
        }
      ]
    },
    {
      "cell_type": "markdown",
      "metadata": {
        "id": "fBrCNjtoIvVZ"
      },
      "source": [
        "**3 -  PRETREATMENT**"
      ]
    },
    {
      "cell_type": "code",
      "metadata": {
        "id": "2LpCNiLFucui"
      },
      "source": [
        "def set_type(df,column,type):\r\n",
        "  df[column] = df[column].astype(type)\r\n",
        "\r\n",
        "\r\n",
        "# we will convert boolean columns to 1/0\r\n",
        "train_auto['PARENT1'] = train_auto['PARENT1'].apply(lambda x: 1 if x == 'YES' else 0)\r\n",
        "train_auto['RED_CAR'] = train_auto['RED_CAR'].apply(lambda x: 1 if x == 'yes' else 0)\r\n",
        "train_auto['REVOKED'] = train_auto['REVOKED'].apply(lambda x: 1 if x == 'Yes' else 0)\r\n",
        "train_auto['MSTATUS'] = train_auto['MSTATUS'].apply(lambda x: 1 if x == 'Yes' else 0)\r\n",
        "\r\n",
        "set_type(train_auto,\"PARENT1\",int)\r\n",
        "set_type(train_auto,\"RED_CAR\",int)\r\n",
        "set_type(train_auto,\"REVOKED\",int)\r\n",
        "set_type(train_auto,\"MSTATUS\",int)\r\n",
        "\r\n",
        "\r\n",
        "test_auto['PARENT1'] = test_auto['PARENT1'].apply(lambda x: 1 if x == 'YES' else 0)\r\n",
        "test_auto['RED_CAR'] = test_auto['RED_CAR'].apply(lambda x: 1 if x == 'yes' else 0)\r\n",
        "test_auto['REVOKED'] = test_auto['REVOKED'].apply(lambda x: 1 if x == 'Yes' else 0)\r\n",
        "test_auto['MSTATUS'] = test_auto['MSTATUS'].apply(lambda x: 1 if x == 'Yes' else 0)\r\n",
        "\r\n",
        "set_type(test_auto,\"PARENT1\",int)\r\n",
        "set_type(test_auto,\"RED_CAR\",int)\r\n",
        "set_type(test_auto,\"REVOKED\",int)\r\n",
        "set_type(test_auto,\"MSTATUS\",int)"
      ],
      "execution_count": 13,
      "outputs": []
    },
    {
      "cell_type": "markdown",
      "metadata": {
        "id": "N6mZvvoMe83b"
      },
      "source": [
        "After we inspected the data, we will identify the columns with the most missing values, that we will either fill or remove completely, in order to have a clean dataset."
      ]
    },
    {
      "cell_type": "code",
      "metadata": {
        "id": "X2ukeu4Awjbv"
      },
      "source": [
        "# return dictionnary of percentage of missing values for each column \r\n",
        "def nan_values_by_columns(df):\r\n",
        "  dic = {}\r\n",
        "  for i in df.columns:\r\n",
        "    p = sum(pd.isnull(df[i]))/2164 * 100\r\n",
        "    if(p != 0):\r\n",
        "      dic[i] = p\r\n",
        "  return dic"
      ],
      "execution_count": 14,
      "outputs": []
    },
    {
      "cell_type": "code",
      "metadata": {
        "colab": {
          "base_uri": "https://localhost:8080/"
        },
        "id": "-LYvqjPMwyOS",
        "outputId": "f7445d37-cc02-412e-8ba3-493c84ae6c6b"
      },
      "source": [
        "nan_values_by_columns(test_auto)"
      ],
      "execution_count": 15,
      "outputs": [
        {
          "output_type": "execute_result",
          "data": {
            "text/plain": [
              "{'AGE': 0.04621072088724584,\n",
              " 'CAR_AGE': 5.961182994454713,\n",
              " 'HOME_VAL': 5.129390018484288,\n",
              " 'INCOME': 5.77634011090573,\n",
              " 'JOB': 6.423290203327172,\n",
              " 'TARGET_AMT': 98.93715341959334,\n",
              " 'TARGET_FLAG': 98.93715341959334,\n",
              " 'YOJ': 4.343807763401109}"
            ]
          },
          "metadata": {
            "tags": []
          },
          "execution_count": 15
        }
      ]
    },
    {
      "cell_type": "code",
      "metadata": {
        "id": "KKY0AVHRxQj6"
      },
      "source": [
        "def columns_to_remove(df):\r\n",
        "  to_remove = []\r\n",
        "  for i in range(0,df.shape[1]):\r\n",
        "    p = df.iloc[:, i].isnull().sum()/df.shape[0] * 100 # percentage of Nan values of each column \r\n",
        "    if(p > 80 and p != 0): \r\n",
        "      to_remove.append(str(df.columns[i])) # add columns that have more than 80% of nan values in the array of the columns to remove\r\n",
        "  return to_remove"
      ],
      "execution_count": 16,
      "outputs": []
    },
    {
      "cell_type": "code",
      "metadata": {
        "colab": {
          "base_uri": "https://localhost:8080/"
        },
        "id": "sFI9UrwbxxH4",
        "outputId": "97058b07-ef2b-47ea-b35e-56a9d6bc735d"
      },
      "source": [
        "columns_to_remove_from_train_auto = columns_to_remove(train_auto)\r\n",
        "columns_to_remove_from_train_auto"
      ],
      "execution_count": 17,
      "outputs": [
        {
          "output_type": "execute_result",
          "data": {
            "text/plain": [
              "[]"
            ]
          },
          "metadata": {
            "tags": []
          },
          "execution_count": 17
        }
      ]
    },
    {
      "cell_type": "code",
      "metadata": {
        "colab": {
          "base_uri": "https://localhost:8080/"
        },
        "id": "BRKx1JiPxl85",
        "outputId": "2a398ba9-9102-40dc-ed92-a2af8568d57d"
      },
      "source": [
        "columns_to_remove_from_test_auto = columns_to_remove(test_auto)\r\n",
        "columns_to_remove_from_test_auto"
      ],
      "execution_count": 18,
      "outputs": [
        {
          "output_type": "execute_result",
          "data": {
            "text/plain": [
              "['TARGET_FLAG', 'TARGET_AMT']"
            ]
          },
          "metadata": {
            "tags": []
          },
          "execution_count": 18
        }
      ]
    },
    {
      "cell_type": "code",
      "metadata": {
        "id": "n1gvJNzSyzYu"
      },
      "source": [
        "new_train_auto =  copy.deepcopy(train_auto) # create deep copy of train_auto df\r\n",
        "new_test_auto =  copy.deepcopy(test_auto) # create deep copy of test_auto df\r\n",
        "\r\n",
        "output_target_flag = new_train_auto[\"TARGET_FLAG\"]\r\n",
        "output_target_amt = new_train_auto[\"TARGET_AMT\"]\r\n",
        "\r\n",
        "new_train_auto = new_train_auto.drop(columns_to_remove_from_test_auto, axis=1) \r\n",
        "new_test_auto = new_test_auto.drop(columns_to_remove_from_test_auto, axis=1) "
      ],
      "execution_count": 19,
      "outputs": []
    },
    {
      "cell_type": "code",
      "metadata": {
        "colab": {
          "base_uri": "https://localhost:8080/"
        },
        "id": "tUzU1jpF0Bg_",
        "outputId": "b4fc9c12-0f4b-4687-ed80-1b7c5e024f07"
      },
      "source": [
        "nan_values_percentage_new_train_auto = nan_values_by_columns(new_train_auto)\r\n",
        "print(nan_values_percentage_new_train_auto) # show percentage of nan values of each column in train auto df"
      ],
      "execution_count": 20,
      "outputs": [
        {
          "output_type": "stream",
          "text": [
            "{'AGE': 0.27726432532347506, 'YOJ': 20.97966728280961, 'INCOME': 20.5637707948244, 'HOME_VAL': 21.441774491682068, 'JOB': 24.306839186691313, 'CAR_AGE': 23.56746765249538}\n"
          ],
          "name": "stdout"
        }
      ]
    },
    {
      "cell_type": "code",
      "metadata": {
        "colab": {
          "base_uri": "https://localhost:8080/"
        },
        "id": "j0KGffm60Lex",
        "outputId": "d943c966-e6ec-4aba-b262-53a8e61c930e"
      },
      "source": [
        "nan_values_percentage_new_test_auto = nan_values_by_columns(new_test_auto)\r\n",
        "print(nan_values_percentage_new_test_auto) # show percentage of nan values of each column in test auto df"
      ],
      "execution_count": 21,
      "outputs": [
        {
          "output_type": "stream",
          "text": [
            "{'AGE': 0.04621072088724584, 'YOJ': 4.343807763401109, 'INCOME': 5.77634011090573, 'HOME_VAL': 5.129390018484288, 'JOB': 6.423290203327172, 'CAR_AGE': 5.961182994454713}\n"
          ],
          "name": "stdout"
        }
      ]
    },
    {
      "cell_type": "code",
      "metadata": {
        "id": "M6MUUs2F1GVH"
      },
      "source": [
        "def bar_plot(dic,title,xlabel,ylabel):\r\n",
        "  f, ax = plt.subplots(figsize=(10,5))\r\n",
        "  ax.bar(dic.keys(),dic.values())\r\n",
        "  plt.title(title)\r\n",
        "  plt.xlabel(xlabel)\r\n",
        "  plt.xticks(rotation=90)\r\n",
        "  plt.ylabel(ylabel)\r\n",
        "  plt.show()"
      ],
      "execution_count": 22,
      "outputs": []
    },
    {
      "cell_type": "code",
      "metadata": {
        "colab": {
          "base_uri": "https://localhost:8080/",
          "height": 393
        },
        "id": "Mf4c5tZ60TqU",
        "outputId": "e317f6d2-7b6d-45fd-e879-17e1588aae9d"
      },
      "source": [
        "bar_plot(nan_values_percentage_new_train_auto,\"Percentage of missing values in train auto\",\"Column\",\"Percentage of nan values\")"
      ],
      "execution_count": 23,
      "outputs": [
        {
          "output_type": "display_data",
          "data": {
            "image/png": "[encoded data removed]",
            "text/plain": [
              "<Figure size 720x360 with 1 Axes>"
            ]
          },
          "metadata": {
            "tags": [],
            "needs_background": "light"
          }
        }
      ]
    },
    {
      "cell_type": "code",
      "metadata": {
        "colab": {
          "base_uri": "https://localhost:8080/",
          "height": 393
        },
        "id": "PkXxMrqv1MHB",
        "outputId": "316ced22-6d92-4a03-e9bf-bb77bad77da4"
      },
      "source": [
        "bar_plot(nan_values_percentage_new_test_auto,\"Percentage of missing values in test auto\",\"Column\",\"Percentage of nan values\")"
      ],
      "execution_count": 24,
      "outputs": [
        {
          "output_type": "display_data",
          "data": {
            "image/png": "[encoded data removed]",
            "text/plain": [
              "<Figure size 720x360 with 1 Axes>"
            ]
          },
          "metadata": {
            "tags": [],
            "needs_background": "light"
          }
        }
      ]
    },
    {
      "cell_type": "code",
      "metadata": {
        "id": "pMOtCUkg5jzj"
      },
      "source": [
        "# remove dollars from INCOME, HOME_VAL, BLUEBOOK, OLDCLAIM\r\n",
        "def remove_dolars(df,column):\r\n",
        "  df[column] = df[column].str.replace('$', '')\r\n",
        "  df[column] = df[column].str.replace(',', '.')\r\n",
        "  \r\n",
        "\r\n",
        "def set_type(df,column,column_type):\r\n",
        "  df[column] = df[column].astype(column_type)\r\n",
        "\r\n",
        "remove_dolars(new_train_auto,\"INCOME\")\r\n",
        "remove_dolars(new_test_auto,\"INCOME\")\r\n",
        "set_type(new_train_auto,\"INCOME\",float)\r\n",
        "set_type(new_test_auto,\"INCOME\",float)\r\n",
        "\r\n",
        "\r\n",
        "remove_dolars(new_train_auto,\"HOME_VAL\")\r\n",
        "remove_dolars(new_test_auto,\"HOME_VAL\")\r\n",
        "set_type(new_train_auto,\"HOME_VAL\",float)\r\n",
        "set_type(new_test_auto,\"HOME_VAL\",float)\r\n",
        "\r\n",
        "remove_dolars(new_train_auto,\"BLUEBOOK\")\r\n",
        "remove_dolars(new_test_auto,\"BLUEBOOK\")\r\n",
        "set_type(new_train_auto,\"BLUEBOOK\",float)\r\n",
        "set_type(new_test_auto,\"BLUEBOOK\",float)\r\n",
        "\r\n",
        "remove_dolars(new_train_auto,\"OLDCLAIM\")\r\n",
        "remove_dolars(new_test_auto,\"OLDCLAIM\")\r\n",
        "set_type(new_train_auto,\"OLDCLAIM\",float)\r\n",
        "set_type(new_test_auto,\"OLDCLAIM\",float)"
      ],
      "execution_count": 25,
      "outputs": []
    },
    {
      "cell_type": "code",
      "metadata": {
        "id": "2yLsMBqs4G4g"
      },
      "source": [
        "# replace missing values of \"job\" column\r\n",
        "new_train_auto[\"JOB\"] = new_train_auto[\"JOB\"].replace(np.NaN,\"not mentioned\")\r\n",
        "new_test_auto[\"JOB\"] = new_test_auto[\"JOB\"].replace(np.NaN,\"not mentioned\")"
      ],
      "execution_count": 26,
      "outputs": []
    },
    {
      "cell_type": "code",
      "metadata": {
        "colab": {
          "base_uri": "https://localhost:8080/",
          "height": 287
        },
        "id": "ZDEPDr_cxGwb",
        "outputId": "cc123d2e-88d9-4019-ce25-46527f285e0a"
      },
      "source": [
        "new_train_auto.head(3)"
      ],
      "execution_count": 27,
      "outputs": [
        {
          "output_type": "execute_result",
          "data": {
            "text/html": [
              "<div>\n",
              "<style scoped>\n",
              "    .dataframe tbody tr th:only-of-type {\n",
              "        vertical-align: middle;\n",
              "    }\n",
              "\n",
              "    .dataframe tbody tr th {\n",
              "        vertical-align: top;\n",
              "    }\n",
              "\n",
              "    .dataframe thead th {\n",
              "        text-align: right;\n",
              "    }\n",
              "</style>\n",
              "<table border=\"1\" class=\"dataframe\">\n",
              "  <thead>\n",
              "    <tr style=\"text-align: right;\">\n",
              "      <th></th>\n",
              "      <th>KIDSDRIV</th>\n",
              "      <th>AGE</th>\n",
              "      <th>HOMEKIDS</th>\n",
              "      <th>YOJ</th>\n",
              "      <th>INCOME</th>\n",
              "      <th>PARENT1</th>\n",
              "      <th>HOME_VAL</th>\n",
              "      <th>MSTATUS</th>\n",
              "      <th>SEX</th>\n",
              "      <th>EDUCATION</th>\n",
              "      <th>JOB</th>\n",
              "      <th>TRAVTIME</th>\n",
              "      <th>CAR_USE</th>\n",
              "      <th>BLUEBOOK</th>\n",
              "      <th>TIF</th>\n",
              "      <th>CAR_TYPE</th>\n",
              "      <th>RED_CAR</th>\n",
              "      <th>OLDCLAIM</th>\n",
              "      <th>CLM_FREQ</th>\n",
              "      <th>REVOKED</th>\n",
              "      <th>MVR_PTS</th>\n",
              "      <th>CAR_AGE</th>\n",
              "      <th>URBANICITY</th>\n",
              "    </tr>\n",
              "    <tr>\n",
              "      <th>INDEX</th>\n",
              "      <th></th>\n",
              "      <th></th>\n",
              "      <th></th>\n",
              "      <th></th>\n",
              "      <th></th>\n",
              "      <th></th>\n",
              "      <th></th>\n",
              "      <th></th>\n",
              "      <th></th>\n",
              "      <th></th>\n",
              "      <th></th>\n",
              "      <th></th>\n",
              "      <th></th>\n",
              "      <th></th>\n",
              "      <th></th>\n",
              "      <th></th>\n",
              "      <th></th>\n",
              "      <th></th>\n",
              "      <th></th>\n",
              "      <th></th>\n",
              "      <th></th>\n",
              "      <th></th>\n",
              "      <th></th>\n",
              "    </tr>\n",
              "  </thead>\n",
              "  <tbody>\n",
              "    <tr>\n",
              "      <th>1</th>\n",
              "      <td>0</td>\n",
              "      <td>60.0</td>\n",
              "      <td>0</td>\n",
              "      <td>11.0</td>\n",
              "      <td>67.349</td>\n",
              "      <td>0</td>\n",
              "      <td>0.000</td>\n",
              "      <td>0</td>\n",
              "      <td>M</td>\n",
              "      <td>PhD</td>\n",
              "      <td>Professional</td>\n",
              "      <td>14</td>\n",
              "      <td>Private</td>\n",
              "      <td>14.23</td>\n",
              "      <td>11</td>\n",
              "      <td>Minivan</td>\n",
              "      <td>1</td>\n",
              "      <td>4.461</td>\n",
              "      <td>2</td>\n",
              "      <td>0</td>\n",
              "      <td>3</td>\n",
              "      <td>18.0</td>\n",
              "      <td>Highly Urban/ Urban</td>\n",
              "    </tr>\n",
              "    <tr>\n",
              "      <th>2</th>\n",
              "      <td>0</td>\n",
              "      <td>43.0</td>\n",
              "      <td>0</td>\n",
              "      <td>11.0</td>\n",
              "      <td>91.449</td>\n",
              "      <td>0</td>\n",
              "      <td>257.252</td>\n",
              "      <td>0</td>\n",
              "      <td>M</td>\n",
              "      <td>z_High School</td>\n",
              "      <td>z_Blue Collar</td>\n",
              "      <td>22</td>\n",
              "      <td>Commercial</td>\n",
              "      <td>14.94</td>\n",
              "      <td>1</td>\n",
              "      <td>Minivan</td>\n",
              "      <td>1</td>\n",
              "      <td>0.000</td>\n",
              "      <td>0</td>\n",
              "      <td>0</td>\n",
              "      <td>0</td>\n",
              "      <td>1.0</td>\n",
              "      <td>Highly Urban/ Urban</td>\n",
              "    </tr>\n",
              "    <tr>\n",
              "      <th>4</th>\n",
              "      <td>0</td>\n",
              "      <td>35.0</td>\n",
              "      <td>1</td>\n",
              "      <td>10.0</td>\n",
              "      <td>16.039</td>\n",
              "      <td>0</td>\n",
              "      <td>124.191</td>\n",
              "      <td>1</td>\n",
              "      <td>z_F</td>\n",
              "      <td>z_High School</td>\n",
              "      <td>Clerical</td>\n",
              "      <td>5</td>\n",
              "      <td>Private</td>\n",
              "      <td>4.01</td>\n",
              "      <td>4</td>\n",
              "      <td>z_SUV</td>\n",
              "      <td>0</td>\n",
              "      <td>38.690</td>\n",
              "      <td>2</td>\n",
              "      <td>0</td>\n",
              "      <td>3</td>\n",
              "      <td>10.0</td>\n",
              "      <td>Highly Urban/ Urban</td>\n",
              "    </tr>\n",
              "  </tbody>\n",
              "</table>\n",
              "</div>"
            ],
            "text/plain": [
              "       KIDSDRIV   AGE  HOMEKIDS  ...  MVR_PTS  CAR_AGE           URBANICITY\n",
              "INDEX                            ...                                       \n",
              "1             0  60.0         0  ...        3     18.0  Highly Urban/ Urban\n",
              "2             0  43.0         0  ...        0      1.0  Highly Urban/ Urban\n",
              "4             0  35.0         1  ...        3     10.0  Highly Urban/ Urban\n",
              "\n",
              "[3 rows x 23 columns]"
            ]
          },
          "metadata": {
            "tags": []
          },
          "execution_count": 27
        }
      ]
    },
    {
      "cell_type": "code",
      "metadata": {
        "id": "ddjqV9-zwq-Q"
      },
      "source": [
        "# replace missing values of the median\r\n",
        "new_train_auto.fillna(new_train_auto.median(),inplace=True)\r\n",
        "new_test_auto.fillna(new_test_auto.median(),inplace=True)"
      ],
      "execution_count": 28,
      "outputs": []
    },
    {
      "cell_type": "code",
      "metadata": {
        "colab": {
          "base_uri": "https://localhost:8080/"
        },
        "id": "rt1qLZoy_emV",
        "outputId": "c958c04a-0d49-41ff-b110-e4c31b289430"
      },
      "source": [
        "# display percentage of nan values in each df\r\n",
        "print(nan_values_by_columns(new_train_auto))\r\n",
        "print(nan_values_by_columns(new_test_auto))"
      ],
      "execution_count": 29,
      "outputs": [
        {
          "output_type": "stream",
          "text": [
            "{}\n",
            "{}\n"
          ],
          "name": "stdout"
        }
      ]
    },
    {
      "cell_type": "code",
      "metadata": {
        "id": "QvvMr0a4_oib"
      },
      "source": [
        "# convert categorical variable into dummy variables\r\n",
        "\r\n",
        "def convert_categorical_variable_into_dummy_variables(df,columns_list):\r\n",
        "  res = []\r\n",
        "  for c in columns_list:\r\n",
        "    res.append(pd.get_dummies(df[c]))\r\n",
        "  return res\r\n",
        "\r\n",
        "# categorical columns\r\n",
        "columns = [\"SEX\",\"EDUCATION\",\"JOB\",\"CAR_USE\",\"CAR_TYPE\",\"URBANICITY\"]\r\n",
        "\r\n",
        "dummies_train = convert_categorical_variable_into_dummy_variables(new_train_auto,columns)\r\n",
        "dummies_test = convert_categorical_variable_into_dummy_variables(new_test_auto,columns)\r\n",
        "\r\n",
        "# drop variables that have been converted to dummy variables\r\n",
        "new_train_auto = new_train_auto.drop(columns,axis=1)\r\n",
        "new_test_auto = new_test_auto.drop(columns,axis=1)\r\n",
        "\r\n",
        "# concat dummies_train with train auto dataframe\r\n",
        "train_df = [new_train_auto]\r\n",
        "for df in dummies_train:\r\n",
        "  train_df.append(df)\r\n",
        "new_train_auto = pd.concat(train_df, axis=1)\r\n",
        "\r\n",
        "# concat dummies_train with test auto dataframe\r\n",
        "test_df = [new_test_auto]\r\n",
        "for df in dummies_test:\r\n",
        "  test_df.append(df)  \r\n",
        "new_test_auto = pd.concat(test_df, axis=1)"
      ],
      "execution_count": 30,
      "outputs": []
    },
    {
      "cell_type": "code",
      "metadata": {
        "colab": {
          "base_uri": "https://localhost:8080/",
          "height": 281
        },
        "id": "zxtF74RKv8fm",
        "outputId": "e820aea0-2a6d-43f9-9820-0e6e7e03649d"
      },
      "source": [
        "new_train_auto.head()"
      ],
      "execution_count": 31,
      "outputs": [
        {
          "output_type": "execute_result",
          "data": {
            "text/html": [
              "<div>\n",
              "<style scoped>\n",
              "    .dataframe tbody tr th:only-of-type {\n",
              "        vertical-align: middle;\n",
              "    }\n",
              "\n",
              "    .dataframe tbody tr th {\n",
              "        vertical-align: top;\n",
              "    }\n",
              "\n",
              "    .dataframe thead th {\n",
              "        text-align: right;\n",
              "    }\n",
              "</style>\n",
              "<table border=\"1\" class=\"dataframe\">\n",
              "  <thead>\n",
              "    <tr style=\"text-align: right;\">\n",
              "      <th></th>\n",
              "      <th>KIDSDRIV</th>\n",
              "      <th>AGE</th>\n",
              "      <th>HOMEKIDS</th>\n",
              "      <th>YOJ</th>\n",
              "      <th>INCOME</th>\n",
              "      <th>PARENT1</th>\n",
              "      <th>HOME_VAL</th>\n",
              "      <th>MSTATUS</th>\n",
              "      <th>TRAVTIME</th>\n",
              "      <th>BLUEBOOK</th>\n",
              "      <th>TIF</th>\n",
              "      <th>RED_CAR</th>\n",
              "      <th>OLDCLAIM</th>\n",
              "      <th>CLM_FREQ</th>\n",
              "      <th>REVOKED</th>\n",
              "      <th>MVR_PTS</th>\n",
              "      <th>CAR_AGE</th>\n",
              "      <th>M</th>\n",
              "      <th>z_F</th>\n",
              "      <th>&lt;High School</th>\n",
              "      <th>Bachelors</th>\n",
              "      <th>Masters</th>\n",
              "      <th>PhD</th>\n",
              "      <th>z_High School</th>\n",
              "      <th>Clerical</th>\n",
              "      <th>Doctor</th>\n",
              "      <th>Home Maker</th>\n",
              "      <th>Lawyer</th>\n",
              "      <th>Manager</th>\n",
              "      <th>Professional</th>\n",
              "      <th>Student</th>\n",
              "      <th>not mentioned</th>\n",
              "      <th>z_Blue Collar</th>\n",
              "      <th>Commercial</th>\n",
              "      <th>Private</th>\n",
              "      <th>Minivan</th>\n",
              "      <th>Panel Truck</th>\n",
              "      <th>Pickup</th>\n",
              "      <th>Sports Car</th>\n",
              "      <th>Van</th>\n",
              "      <th>z_SUV</th>\n",
              "      <th>Highly Urban/ Urban</th>\n",
              "      <th>z_Highly Rural/ Rural</th>\n",
              "    </tr>\n",
              "    <tr>\n",
              "      <th>INDEX</th>\n",
              "      <th></th>\n",
              "      <th></th>\n",
              "      <th></th>\n",
              "      <th></th>\n",
              "      <th></th>\n",
              "      <th></th>\n",
              "      <th></th>\n",
              "      <th></th>\n",
              "      <th></th>\n",
              "      <th></th>\n",
              "      <th></th>\n",
              "      <th></th>\n",
              "      <th></th>\n",
              "      <th></th>\n",
              "      <th></th>\n",
              "      <th></th>\n",
              "      <th></th>\n",
              "      <th></th>\n",
              "      <th></th>\n",
              "      <th></th>\n",
              "      <th></th>\n",
              "      <th></th>\n",
              "      <th></th>\n",
              "      <th></th>\n",
              "      <th></th>\n",
              "      <th></th>\n",
              "      <th></th>\n",
              "      <th></th>\n",
              "      <th></th>\n",
              "      <th></th>\n",
              "      <th></th>\n",
              "      <th></th>\n",
              "      <th></th>\n",
              "      <th></th>\n",
              "      <th></th>\n",
              "      <th></th>\n",
              "      <th></th>\n",
              "      <th></th>\n",
              "      <th></th>\n",
              "      <th></th>\n",
              "      <th></th>\n",
              "      <th></th>\n",
              "      <th></th>\n",
              "    </tr>\n",
              "  </thead>\n",
              "  <tbody>\n",
              "    <tr>\n",
              "      <th>1</th>\n",
              "      <td>0</td>\n",
              "      <td>60.0</td>\n",
              "      <td>0</td>\n",
              "      <td>11.0</td>\n",
              "      <td>67.3490</td>\n",
              "      <td>0</td>\n",
              "      <td>0.000</td>\n",
              "      <td>0</td>\n",
              "      <td>14</td>\n",
              "      <td>14.23</td>\n",
              "      <td>11</td>\n",
              "      <td>1</td>\n",
              "      <td>4.461</td>\n",
              "      <td>2</td>\n",
              "      <td>0</td>\n",
              "      <td>3</td>\n",
              "      <td>18.0</td>\n",
              "      <td>1</td>\n",
              "      <td>0</td>\n",
              "      <td>0</td>\n",
              "      <td>0</td>\n",
              "      <td>0</td>\n",
              "      <td>1</td>\n",
              "      <td>0</td>\n",
              "      <td>0</td>\n",
              "      <td>0</td>\n",
              "      <td>0</td>\n",
              "      <td>0</td>\n",
              "      <td>0</td>\n",
              "      <td>1</td>\n",
              "      <td>0</td>\n",
              "      <td>0</td>\n",
              "      <td>0</td>\n",
              "      <td>0</td>\n",
              "      <td>1</td>\n",
              "      <td>1</td>\n",
              "      <td>0</td>\n",
              "      <td>0</td>\n",
              "      <td>0</td>\n",
              "      <td>0</td>\n",
              "      <td>0</td>\n",
              "      <td>1</td>\n",
              "      <td>0</td>\n",
              "    </tr>\n",
              "    <tr>\n",
              "      <th>2</th>\n",
              "      <td>0</td>\n",
              "      <td>43.0</td>\n",
              "      <td>0</td>\n",
              "      <td>11.0</td>\n",
              "      <td>91.4490</td>\n",
              "      <td>0</td>\n",
              "      <td>257.252</td>\n",
              "      <td>0</td>\n",
              "      <td>22</td>\n",
              "      <td>14.94</td>\n",
              "      <td>1</td>\n",
              "      <td>1</td>\n",
              "      <td>0.000</td>\n",
              "      <td>0</td>\n",
              "      <td>0</td>\n",
              "      <td>0</td>\n",
              "      <td>1.0</td>\n",
              "      <td>1</td>\n",
              "      <td>0</td>\n",
              "      <td>0</td>\n",
              "      <td>0</td>\n",
              "      <td>0</td>\n",
              "      <td>0</td>\n",
              "      <td>1</td>\n",
              "      <td>0</td>\n",
              "      <td>0</td>\n",
              "      <td>0</td>\n",
              "      <td>0</td>\n",
              "      <td>0</td>\n",
              "      <td>0</td>\n",
              "      <td>0</td>\n",
              "      <td>0</td>\n",
              "      <td>1</td>\n",
              "      <td>1</td>\n",
              "      <td>0</td>\n",
              "      <td>1</td>\n",
              "      <td>0</td>\n",
              "      <td>0</td>\n",
              "      <td>0</td>\n",
              "      <td>0</td>\n",
              "      <td>0</td>\n",
              "      <td>1</td>\n",
              "      <td>0</td>\n",
              "    </tr>\n",
              "    <tr>\n",
              "      <th>4</th>\n",
              "      <td>0</td>\n",
              "      <td>35.0</td>\n",
              "      <td>1</td>\n",
              "      <td>10.0</td>\n",
              "      <td>16.0390</td>\n",
              "      <td>0</td>\n",
              "      <td>124.191</td>\n",
              "      <td>1</td>\n",
              "      <td>5</td>\n",
              "      <td>4.01</td>\n",
              "      <td>4</td>\n",
              "      <td>0</td>\n",
              "      <td>38.690</td>\n",
              "      <td>2</td>\n",
              "      <td>0</td>\n",
              "      <td>3</td>\n",
              "      <td>10.0</td>\n",
              "      <td>0</td>\n",
              "      <td>1</td>\n",
              "      <td>0</td>\n",
              "      <td>0</td>\n",
              "      <td>0</td>\n",
              "      <td>0</td>\n",
              "      <td>1</td>\n",
              "      <td>1</td>\n",
              "      <td>0</td>\n",
              "      <td>0</td>\n",
              "      <td>0</td>\n",
              "      <td>0</td>\n",
              "      <td>0</td>\n",
              "      <td>0</td>\n",
              "      <td>0</td>\n",
              "      <td>0</td>\n",
              "      <td>0</td>\n",
              "      <td>1</td>\n",
              "      <td>0</td>\n",
              "      <td>0</td>\n",
              "      <td>0</td>\n",
              "      <td>0</td>\n",
              "      <td>0</td>\n",
              "      <td>1</td>\n",
              "      <td>1</td>\n",
              "      <td>0</td>\n",
              "    </tr>\n",
              "    <tr>\n",
              "      <th>5</th>\n",
              "      <td>0</td>\n",
              "      <td>51.0</td>\n",
              "      <td>0</td>\n",
              "      <td>14.0</td>\n",
              "      <td>54.7995</td>\n",
              "      <td>0</td>\n",
              "      <td>306.251</td>\n",
              "      <td>1</td>\n",
              "      <td>32</td>\n",
              "      <td>15.44</td>\n",
              "      <td>7</td>\n",
              "      <td>1</td>\n",
              "      <td>0.000</td>\n",
              "      <td>0</td>\n",
              "      <td>0</td>\n",
              "      <td>0</td>\n",
              "      <td>6.0</td>\n",
              "      <td>1</td>\n",
              "      <td>0</td>\n",
              "      <td>1</td>\n",
              "      <td>0</td>\n",
              "      <td>0</td>\n",
              "      <td>0</td>\n",
              "      <td>0</td>\n",
              "      <td>0</td>\n",
              "      <td>0</td>\n",
              "      <td>0</td>\n",
              "      <td>0</td>\n",
              "      <td>0</td>\n",
              "      <td>0</td>\n",
              "      <td>0</td>\n",
              "      <td>0</td>\n",
              "      <td>1</td>\n",
              "      <td>0</td>\n",
              "      <td>1</td>\n",
              "      <td>1</td>\n",
              "      <td>0</td>\n",
              "      <td>0</td>\n",
              "      <td>0</td>\n",
              "      <td>0</td>\n",
              "      <td>0</td>\n",
              "      <td>1</td>\n",
              "      <td>0</td>\n",
              "    </tr>\n",
              "    <tr>\n",
              "      <th>6</th>\n",
              "      <td>0</td>\n",
              "      <td>50.0</td>\n",
              "      <td>0</td>\n",
              "      <td>11.0</td>\n",
              "      <td>114.9860</td>\n",
              "      <td>0</td>\n",
              "      <td>243.925</td>\n",
              "      <td>1</td>\n",
              "      <td>36</td>\n",
              "      <td>18.00</td>\n",
              "      <td>1</td>\n",
              "      <td>0</td>\n",
              "      <td>19.217</td>\n",
              "      <td>2</td>\n",
              "      <td>1</td>\n",
              "      <td>3</td>\n",
              "      <td>17.0</td>\n",
              "      <td>0</td>\n",
              "      <td>1</td>\n",
              "      <td>0</td>\n",
              "      <td>0</td>\n",
              "      <td>0</td>\n",
              "      <td>1</td>\n",
              "      <td>0</td>\n",
              "      <td>0</td>\n",
              "      <td>1</td>\n",
              "      <td>0</td>\n",
              "      <td>0</td>\n",
              "      <td>0</td>\n",
              "      <td>0</td>\n",
              "      <td>0</td>\n",
              "      <td>0</td>\n",
              "      <td>0</td>\n",
              "      <td>0</td>\n",
              "      <td>1</td>\n",
              "      <td>0</td>\n",
              "      <td>0</td>\n",
              "      <td>0</td>\n",
              "      <td>0</td>\n",
              "      <td>0</td>\n",
              "      <td>1</td>\n",
              "      <td>1</td>\n",
              "      <td>0</td>\n",
              "    </tr>\n",
              "  </tbody>\n",
              "</table>\n",
              "</div>"
            ],
            "text/plain": [
              "       KIDSDRIV   AGE  ...  Highly Urban/ Urban  z_Highly Rural/ Rural\n",
              "INDEX                  ...                                            \n",
              "1             0  60.0  ...                    1                      0\n",
              "2             0  43.0  ...                    1                      0\n",
              "4             0  35.0  ...                    1                      0\n",
              "5             0  51.0  ...                    1                      0\n",
              "6             0  50.0  ...                    1                      0\n",
              "\n",
              "[5 rows x 43 columns]"
            ]
          },
          "metadata": {
            "tags": []
          },
          "execution_count": 31
        }
      ]
    },
    {
      "cell_type": "markdown",
      "metadata": {
        "id": "QkVjunxiI-A7"
      },
      "source": [
        "**4 -  Model classification & Evaluation**"
      ]
    },
    {
      "cell_type": "markdown",
      "metadata": {
        "id": "yLYm94oB_4Fd"
      },
      "source": [
        "Since we are dealing with a supervised classification case, we opted for the following ml algorithms : Logistic Regression, Naive Bayes, Decision tree. And then proceeded to compare their performance."
      ]
    },
    {
      "cell_type": "code",
      "metadata": {
        "id": "iDvN4LrMU-IB"
      },
      "source": [
        "# function that fits the classifier using the training set, predicts the class of the records in the test sets and calculates the evaluation metrics\r\n",
        "Metrics = [[]] \r\n",
        "def apply_classifiers(classifier,x_train,y_train,x_test,y_test,string, M):\r\n",
        "  %%time      \r\n",
        "  c = classifier\r\n",
        "  c.fit(x_train, y_train)\r\n",
        "  y_test_pred_classifier = c.predict(x_test)\r\n",
        "  #print(\"y_test_pred_classifier\",y_test_pred_classifier)\r\n",
        "  confusion_matrix_classifier = confusion_matrix(y_test, y_test_pred_classifier)\r\n",
        "  print(\"\\n** Confusion matrix :\\n\\n\", confusion_matrix_classifier)\r\n",
        "  accuracy_test = c.score(x_test, y_test)\r\n",
        "  accuracy_train = c.score(x_train, y_train)\r\n",
        "  print('\\n** Training set score: {:.4f}'.format(accuracy_train))\r\n",
        "  print('\\n** Test set score: {:.4f}'.format(accuracy_test))\r\n",
        "  print(\"\\n\",classification_report(y_test,y_test_pred_classifier))\r\n",
        "  ROC(y_test_pred_classifier,y_test,string)\r\n",
        "  M.append([string,round(accuracy_test,2),round(recall_score(y_test,y_test_pred_classifier),2), round(precision_score(y_test,y_test_pred_classifier),2),round(f1_score(y_test,y_test_pred_classifier),2)])\r\n",
        "  return classifier, y_test_pred_classifier"
      ],
      "execution_count": 32,
      "outputs": []
    },
    {
      "cell_type": "code",
      "metadata": {
        "id": "Ud9QiUPfVzd4"
      },
      "source": [
        "# ROC curve\r\n",
        "def ROC(y_test_pred,y_test,string):\r\n",
        "  roc_auc = roc_auc_score(y_test, y_test_pred)\r\n",
        "  print('ROC AUC : {:.4f}'.format(roc_auc),\"\\n\")\r\n",
        "  fpr, tpr, thresholds = roc_curve(y_test, y_test_pred)\r\n",
        "  plt.figure()\r\n",
        "  plt.figure(figsize=(10,5))\r\n",
        "  plt.plot(fpr, tpr, label= string + '(area = %0.2f)' % roc_auc)\r\n",
        "  plt.plot([0, 1], [0, 1],'r--')\r\n",
        "  plt.xlim([0.0, 1.0])\r\n",
        "  plt.ylim([0.0, 1.05])\r\n",
        "  plt.xlabel('False Positive Rate')\r\n",
        "  plt.ylabel('True Positive Rate')\r\n",
        "  plt.title('Receiver operating characteristic')\r\n",
        "  plt.legend(loc=\"lower right\")\r\n",
        "  plt.savefig('Log_ROC')\r\n",
        "  plt.show()"
      ],
      "execution_count": 33,
      "outputs": []
    },
    {
      "cell_type": "code",
      "metadata": {
        "id": "jC3QmUDKVVQe"
      },
      "source": [
        "# split our train auto data frame into train dataset and test dataset\r\n",
        "x_train, x_test, y_train, y_test = train_test_split(new_train_auto, output_target_flag, test_size=1/3, random_state=0)"
      ],
      "execution_count": 34,
      "outputs": []
    },
    {
      "cell_type": "code",
      "metadata": {
        "colab": {
          "base_uri": "https://localhost:8080/",
          "height": 918
        },
        "id": "YbeEtcP7U_pT",
        "outputId": "50d2d554-bf40-4b6a-b8fa-750c2cc66949"
      },
      "source": [
        "# apply Logistic Regression algorithm\r\n",
        "classifier_LR, y_test_pred_LR = apply_classifiers(LogisticRegression(random_state=0),new_train_auto, output_target_flag,x_test,y_test,\"Logistic Regression\",Metrics)"
      ],
      "execution_count": 35,
      "outputs": [
        {
          "output_type": "stream",
          "text": [
            "CPU times: user 3 µs, sys: 1 µs, total: 4 µs\n",
            "Wall time: 6.91 µs\n",
            "\n",
            "** Confusion matrix :\n",
            "\n",
            " [[1863  160]\n",
            " [ 478  220]]\n",
            "\n",
            "** Training set score: 0.7669\n",
            "\n",
            "** Test set score: 0.7655\n",
            "\n",
            "               precision    recall  f1-score   support\n",
            "\n",
            "           0       0.80      0.92      0.85      2023\n",
            "           1       0.58      0.32      0.41       698\n",
            "\n",
            "    accuracy                           0.77      2721\n",
            "   macro avg       0.69      0.62      0.63      2721\n",
            "weighted avg       0.74      0.77      0.74      2721\n",
            "\n",
            "ROC AUC : 0.6180 \n",
            "\n"
          ],
          "name": "stdout"
        },
        {
          "output_type": "stream",
          "text": [
            "/usr/local/lib/python3.6/dist-packages/sklearn/linear_model/_logistic.py:940: ConvergenceWarning: lbfgs failed to converge (status=1):\n",
            "STOP: TOTAL NO. of ITERATIONS REACHED LIMIT.\n",
            "\n",
            "Increase the number of iterations (max_iter) or scale the data as shown in:\n",
            "    https://scikit-learn.org/stable/modules/preprocessing.html\n",
            "Please also refer to the documentation for alternative solver options:\n",
            "    https://scikit-learn.org/stable/modules/linear_model.html#logistic-regression\n",
            "  extra_warning_msg=_LOGISTIC_SOLVER_CONVERGENCE_MSG)\n"
          ],
          "name": "stderr"
        },
        {
          "output_type": "display_data",
          "data": {
            "text/plain": [
              "<Figure size 432x288 with 0 Axes>"
            ]
          },
          "metadata": {
            "tags": []
          }
        },
        {
          "output_type": "display_data",
          "data": {
            "image/png": "[encoded data removed]",
            "text/plain": [
              "<Figure size 720x360 with 1 Axes>"
            ]
          },
          "metadata": {
            "tags": [],
            "needs_background": "light"
          }
        }
      ]
    },
    {
      "cell_type": "code",
      "metadata": {
        "colab": {
          "base_uri": "https://localhost:8080/",
          "height": 776
        },
        "id": "xBBc8FbxWPJX",
        "outputId": "8c1428df-a65f-4cd3-b780-ffce808cafce"
      },
      "source": [
        "# apply Gaussian NB algorithm\r\n",
        "classifier_BN, y_test_pred_BN = apply_classifiers(GaussianNB(),x_train,y_train,x_test,y_test,\"Gaussian NB\",Metrics)"
      ],
      "execution_count": 36,
      "outputs": [
        {
          "output_type": "stream",
          "text": [
            "CPU times: user 2 µs, sys: 0 ns, total: 2 µs\n",
            "Wall time: 6.68 µs\n",
            "\n",
            "** Confusion matrix :\n",
            "\n",
            " [[1433  590]\n",
            " [ 208  490]]\n",
            "\n",
            "** Training set score: 0.7182\n",
            "\n",
            "** Test set score: 0.7067\n",
            "\n",
            "               precision    recall  f1-score   support\n",
            "\n",
            "           0       0.87      0.71      0.78      2023\n",
            "           1       0.45      0.70      0.55       698\n",
            "\n",
            "    accuracy                           0.71      2721\n",
            "   macro avg       0.66      0.71      0.67      2721\n",
            "weighted avg       0.77      0.71      0.72      2721\n",
            "\n",
            "ROC AUC : 0.7052 \n",
            "\n"
          ],
          "name": "stdout"
        },
        {
          "output_type": "display_data",
          "data": {
            "text/plain": [
              "<Figure size 432x288 with 0 Axes>"
            ]
          },
          "metadata": {
            "tags": []
          }
        },
        {
          "output_type": "display_data",
          "data": {
            "image/png": "[encoded data removed]",
            "text/plain": [
              "<Figure size 720x360 with 1 Axes>"
            ]
          },
          "metadata": {
            "tags": [],
            "needs_background": "light"
          }
        }
      ]
    },
    {
      "cell_type": "code",
      "metadata": {
        "colab": {
          "base_uri": "https://localhost:8080/",
          "height": 776
        },
        "id": "26raRPVoWIsk",
        "outputId": "214594ca-fba0-42f2-fb01-674313c89eb1"
      },
      "source": [
        "# apply Decision Tree algorithm\r\n",
        "classifier_DT, y_test_pred_DT = apply_classifiers(DecisionTreeClassifier(),x_train, y_train,x_test,y_test,\"Decision Tree\",Metrics)"
      ],
      "execution_count": 37,
      "outputs": [
        {
          "output_type": "stream",
          "text": [
            "CPU times: user 3 µs, sys: 1e+03 ns, total: 4 µs\n",
            "Wall time: 6.91 µs\n",
            "\n",
            "** Confusion matrix :\n",
            "\n",
            " [[1603  420]\n",
            " [ 357  341]]\n",
            "\n",
            "** Training set score: 1.0000\n",
            "\n",
            "** Test set score: 0.7144\n",
            "\n",
            "               precision    recall  f1-score   support\n",
            "\n",
            "           0       0.82      0.79      0.80      2023\n",
            "           1       0.45      0.49      0.47       698\n",
            "\n",
            "    accuracy                           0.71      2721\n",
            "   macro avg       0.63      0.64      0.64      2721\n",
            "weighted avg       0.72      0.71      0.72      2721\n",
            "\n",
            "ROC AUC : 0.6405 \n",
            "\n"
          ],
          "name": "stdout"
        },
        {
          "output_type": "display_data",
          "data": {
            "text/plain": [
              "<Figure size 432x288 with 0 Axes>"
            ]
          },
          "metadata": {
            "tags": []
          }
        },
        {
          "output_type": "display_data",
          "data": {
            "image/png": "[encoded data removed]",
            "text/plain": [
              "<Figure size 720x360 with 1 Axes>"
            ]
          },
          "metadata": {
            "tags": [],
            "needs_background": "light"
          }
        }
      ]
    },
    {
      "cell_type": "markdown",
      "metadata": {
        "id": "-G6w3j_MXGaT"
      },
      "source": [
        "**5- Conclusion**"
      ]
    },
    {
      "cell_type": "markdown",
      "metadata": {
        "id": "BtDs6JocYT8s"
      },
      "source": [
        "Taking into consideration all the models that we fitted, we will use the confusion matrix for their evaluation and to choose the model that performs best. We notice that the model with the highest performance is Naive Bayes since the accuracy is 0.71 with a precision of 0.87 for class 0 and a precision of 0.45 for class 1, and a recall of 0.71 for class 0 and 0.70 for class 1. Moreover, the AUC ROC that represents the area under the ROC curve is 0.70 meaning that it is a good classifier. So, we will be using the Naive Bayes  model to predict the target_flag values in the auto test dataset."
      ]
    },
    {
      "cell_type": "code",
      "metadata": {
        "colab": {
          "base_uri": "https://localhost:8080/",
          "height": 281
        },
        "id": "ejESPXb-Z3g3",
        "outputId": "f1a869c8-3a39-4100-8dcd-ae78c5c31278"
      },
      "source": [
        "# predict target_flag of each record in test_auto\r\n",
        "y_pred_target_flag = classifier_BN.predict(new_test_auto)\r\n",
        "\r\n",
        "# fill test auto df with the predicted values of target flag column\r\n",
        "def fill_test_data(df,column,y_pred):\r\n",
        "  j = 0\r\n",
        "  res = []\r\n",
        "  for i in df.index:\r\n",
        "    res.append(y_pred[j])  # fill missing values\r\n",
        "    #df.loc[i] =  \r\n",
        "    j = j + 1\r\n",
        "  df[column] = res  \r\n",
        "\r\n",
        "fill_test_data(new_test_auto,\"TARGET_FLAG\",y_pred_target_flag)\r\n",
        "\r\n",
        "# display test auto dataframe\r\n",
        "new_test_auto.head()"
      ],
      "execution_count": 38,
      "outputs": [
        {
          "output_type": "execute_result",
          "data": {
            "text/html": [
              "<div>\n",
              "<style scoped>\n",
              "    .dataframe tbody tr th:only-of-type {\n",
              "        vertical-align: middle;\n",
              "    }\n",
              "\n",
              "    .dataframe tbody tr th {\n",
              "        vertical-align: top;\n",
              "    }\n",
              "\n",
              "    .dataframe thead th {\n",
              "        text-align: right;\n",
              "    }\n",
              "</style>\n",
              "<table border=\"1\" class=\"dataframe\">\n",
              "  <thead>\n",
              "    <tr style=\"text-align: right;\">\n",
              "      <th></th>\n",
              "      <th>KIDSDRIV</th>\n",
              "      <th>AGE</th>\n",
              "      <th>HOMEKIDS</th>\n",
              "      <th>YOJ</th>\n",
              "      <th>INCOME</th>\n",
              "      <th>PARENT1</th>\n",
              "      <th>HOME_VAL</th>\n",
              "      <th>MSTATUS</th>\n",
              "      <th>TRAVTIME</th>\n",
              "      <th>BLUEBOOK</th>\n",
              "      <th>TIF</th>\n",
              "      <th>RED_CAR</th>\n",
              "      <th>OLDCLAIM</th>\n",
              "      <th>CLM_FREQ</th>\n",
              "      <th>REVOKED</th>\n",
              "      <th>MVR_PTS</th>\n",
              "      <th>CAR_AGE</th>\n",
              "      <th>M</th>\n",
              "      <th>z_F</th>\n",
              "      <th>&lt;High School</th>\n",
              "      <th>Bachelors</th>\n",
              "      <th>Masters</th>\n",
              "      <th>PhD</th>\n",
              "      <th>z_High School</th>\n",
              "      <th>Clerical</th>\n",
              "      <th>Doctor</th>\n",
              "      <th>Home Maker</th>\n",
              "      <th>Lawyer</th>\n",
              "      <th>Manager</th>\n",
              "      <th>Professional</th>\n",
              "      <th>Student</th>\n",
              "      <th>not mentioned</th>\n",
              "      <th>z_Blue Collar</th>\n",
              "      <th>Commercial</th>\n",
              "      <th>Private</th>\n",
              "      <th>Minivan</th>\n",
              "      <th>Panel Truck</th>\n",
              "      <th>Pickup</th>\n",
              "      <th>Sports Car</th>\n",
              "      <th>Van</th>\n",
              "      <th>z_SUV</th>\n",
              "      <th>Highly Urban/ Urban</th>\n",
              "      <th>z_Highly Rural/ Rural</th>\n",
              "      <th>TARGET_FLAG</th>\n",
              "    </tr>\n",
              "    <tr>\n",
              "      <th>INDEX</th>\n",
              "      <th></th>\n",
              "      <th></th>\n",
              "      <th></th>\n",
              "      <th></th>\n",
              "      <th></th>\n",
              "      <th></th>\n",
              "      <th></th>\n",
              "      <th></th>\n",
              "      <th></th>\n",
              "      <th></th>\n",
              "      <th></th>\n",
              "      <th></th>\n",
              "      <th></th>\n",
              "      <th></th>\n",
              "      <th></th>\n",
              "      <th></th>\n",
              "      <th></th>\n",
              "      <th></th>\n",
              "      <th></th>\n",
              "      <th></th>\n",
              "      <th></th>\n",
              "      <th></th>\n",
              "      <th></th>\n",
              "      <th></th>\n",
              "      <th></th>\n",
              "      <th></th>\n",
              "      <th></th>\n",
              "      <th></th>\n",
              "      <th></th>\n",
              "      <th></th>\n",
              "      <th></th>\n",
              "      <th></th>\n",
              "      <th></th>\n",
              "      <th></th>\n",
              "      <th></th>\n",
              "      <th></th>\n",
              "      <th></th>\n",
              "      <th></th>\n",
              "      <th></th>\n",
              "      <th></th>\n",
              "      <th></th>\n",
              "      <th></th>\n",
              "      <th></th>\n",
              "      <th></th>\n",
              "    </tr>\n",
              "  </thead>\n",
              "  <tbody>\n",
              "    <tr>\n",
              "      <th>3</th>\n",
              "      <td>0</td>\n",
              "      <td>48.0</td>\n",
              "      <td>0</td>\n",
              "      <td>11.0</td>\n",
              "      <td>52.881</td>\n",
              "      <td>0</td>\n",
              "      <td>0.0</td>\n",
              "      <td>0</td>\n",
              "      <td>26</td>\n",
              "      <td>21.97</td>\n",
              "      <td>1</td>\n",
              "      <td>1</td>\n",
              "      <td>0.000</td>\n",
              "      <td>0</td>\n",
              "      <td>0</td>\n",
              "      <td>2</td>\n",
              "      <td>10.0</td>\n",
              "      <td>1</td>\n",
              "      <td>0</td>\n",
              "      <td>0</td>\n",
              "      <td>1</td>\n",
              "      <td>0</td>\n",
              "      <td>0</td>\n",
              "      <td>0</td>\n",
              "      <td>0</td>\n",
              "      <td>0</td>\n",
              "      <td>0</td>\n",
              "      <td>0</td>\n",
              "      <td>1</td>\n",
              "      <td>0</td>\n",
              "      <td>0</td>\n",
              "      <td>0</td>\n",
              "      <td>0</td>\n",
              "      <td>0</td>\n",
              "      <td>1</td>\n",
              "      <td>0</td>\n",
              "      <td>0</td>\n",
              "      <td>0</td>\n",
              "      <td>0</td>\n",
              "      <td>1</td>\n",
              "      <td>0</td>\n",
              "      <td>1</td>\n",
              "      <td>0</td>\n",
              "      <td>0</td>\n",
              "    </tr>\n",
              "    <tr>\n",
              "      <th>9</th>\n",
              "      <td>1</td>\n",
              "      <td>40.0</td>\n",
              "      <td>1</td>\n",
              "      <td>11.0</td>\n",
              "      <td>50.815</td>\n",
              "      <td>0</td>\n",
              "      <td>0.0</td>\n",
              "      <td>0</td>\n",
              "      <td>21</td>\n",
              "      <td>18.93</td>\n",
              "      <td>6</td>\n",
              "      <td>0</td>\n",
              "      <td>3.295</td>\n",
              "      <td>1</td>\n",
              "      <td>0</td>\n",
              "      <td>2</td>\n",
              "      <td>1.0</td>\n",
              "      <td>1</td>\n",
              "      <td>0</td>\n",
              "      <td>0</td>\n",
              "      <td>0</td>\n",
              "      <td>0</td>\n",
              "      <td>0</td>\n",
              "      <td>1</td>\n",
              "      <td>0</td>\n",
              "      <td>0</td>\n",
              "      <td>0</td>\n",
              "      <td>0</td>\n",
              "      <td>1</td>\n",
              "      <td>0</td>\n",
              "      <td>0</td>\n",
              "      <td>0</td>\n",
              "      <td>0</td>\n",
              "      <td>0</td>\n",
              "      <td>1</td>\n",
              "      <td>1</td>\n",
              "      <td>0</td>\n",
              "      <td>0</td>\n",
              "      <td>0</td>\n",
              "      <td>0</td>\n",
              "      <td>0</td>\n",
              "      <td>1</td>\n",
              "      <td>0</td>\n",
              "      <td>0</td>\n",
              "    </tr>\n",
              "    <tr>\n",
              "      <th>10</th>\n",
              "      <td>0</td>\n",
              "      <td>44.0</td>\n",
              "      <td>2</td>\n",
              "      <td>12.0</td>\n",
              "      <td>43.486</td>\n",
              "      <td>0</td>\n",
              "      <td>0.0</td>\n",
              "      <td>0</td>\n",
              "      <td>30</td>\n",
              "      <td>5.90</td>\n",
              "      <td>10</td>\n",
              "      <td>0</td>\n",
              "      <td>0.000</td>\n",
              "      <td>0</td>\n",
              "      <td>0</td>\n",
              "      <td>0</td>\n",
              "      <td>10.0</td>\n",
              "      <td>0</td>\n",
              "      <td>1</td>\n",
              "      <td>0</td>\n",
              "      <td>0</td>\n",
              "      <td>0</td>\n",
              "      <td>0</td>\n",
              "      <td>1</td>\n",
              "      <td>0</td>\n",
              "      <td>0</td>\n",
              "      <td>0</td>\n",
              "      <td>0</td>\n",
              "      <td>0</td>\n",
              "      <td>0</td>\n",
              "      <td>0</td>\n",
              "      <td>0</td>\n",
              "      <td>1</td>\n",
              "      <td>1</td>\n",
              "      <td>0</td>\n",
              "      <td>0</td>\n",
              "      <td>0</td>\n",
              "      <td>0</td>\n",
              "      <td>0</td>\n",
              "      <td>0</td>\n",
              "      <td>1</td>\n",
              "      <td>0</td>\n",
              "      <td>1</td>\n",
              "      <td>0</td>\n",
              "    </tr>\n",
              "    <tr>\n",
              "      <th>18</th>\n",
              "      <td>0</td>\n",
              "      <td>35.0</td>\n",
              "      <td>2</td>\n",
              "      <td>11.0</td>\n",
              "      <td>21.204</td>\n",
              "      <td>0</td>\n",
              "      <td>0.0</td>\n",
              "      <td>0</td>\n",
              "      <td>74</td>\n",
              "      <td>9.23</td>\n",
              "      <td>6</td>\n",
              "      <td>0</td>\n",
              "      <td>0.000</td>\n",
              "      <td>0</td>\n",
              "      <td>1</td>\n",
              "      <td>0</td>\n",
              "      <td>4.0</td>\n",
              "      <td>1</td>\n",
              "      <td>0</td>\n",
              "      <td>0</td>\n",
              "      <td>0</td>\n",
              "      <td>0</td>\n",
              "      <td>0</td>\n",
              "      <td>1</td>\n",
              "      <td>1</td>\n",
              "      <td>0</td>\n",
              "      <td>0</td>\n",
              "      <td>0</td>\n",
              "      <td>0</td>\n",
              "      <td>0</td>\n",
              "      <td>0</td>\n",
              "      <td>0</td>\n",
              "      <td>0</td>\n",
              "      <td>0</td>\n",
              "      <td>1</td>\n",
              "      <td>0</td>\n",
              "      <td>0</td>\n",
              "      <td>1</td>\n",
              "      <td>0</td>\n",
              "      <td>0</td>\n",
              "      <td>0</td>\n",
              "      <td>0</td>\n",
              "      <td>1</td>\n",
              "      <td>0</td>\n",
              "    </tr>\n",
              "    <tr>\n",
              "      <th>21</th>\n",
              "      <td>0</td>\n",
              "      <td>59.0</td>\n",
              "      <td>0</td>\n",
              "      <td>12.0</td>\n",
              "      <td>87.460</td>\n",
              "      <td>0</td>\n",
              "      <td>0.0</td>\n",
              "      <td>0</td>\n",
              "      <td>45</td>\n",
              "      <td>15.42</td>\n",
              "      <td>1</td>\n",
              "      <td>1</td>\n",
              "      <td>44.857</td>\n",
              "      <td>2</td>\n",
              "      <td>0</td>\n",
              "      <td>4</td>\n",
              "      <td>1.0</td>\n",
              "      <td>1</td>\n",
              "      <td>0</td>\n",
              "      <td>0</td>\n",
              "      <td>0</td>\n",
              "      <td>0</td>\n",
              "      <td>0</td>\n",
              "      <td>1</td>\n",
              "      <td>0</td>\n",
              "      <td>0</td>\n",
              "      <td>0</td>\n",
              "      <td>0</td>\n",
              "      <td>1</td>\n",
              "      <td>0</td>\n",
              "      <td>0</td>\n",
              "      <td>0</td>\n",
              "      <td>0</td>\n",
              "      <td>0</td>\n",
              "      <td>1</td>\n",
              "      <td>1</td>\n",
              "      <td>0</td>\n",
              "      <td>0</td>\n",
              "      <td>0</td>\n",
              "      <td>0</td>\n",
              "      <td>0</td>\n",
              "      <td>1</td>\n",
              "      <td>0</td>\n",
              "      <td>0</td>\n",
              "    </tr>\n",
              "  </tbody>\n",
              "</table>\n",
              "</div>"
            ],
            "text/plain": [
              "       KIDSDRIV   AGE  ...  z_Highly Rural/ Rural  TARGET_FLAG\n",
              "INDEX                  ...                                    \n",
              "3             0  48.0  ...                      0            0\n",
              "9             1  40.0  ...                      0            0\n",
              "10            0  44.0  ...                      1            0\n",
              "18            0  35.0  ...                      1            0\n",
              "21            0  59.0  ...                      0            0\n",
              "\n",
              "[5 rows x 44 columns]"
            ]
          },
          "metadata": {
            "tags": []
          },
          "execution_count": 38
        }
      ]
    },
    {
      "cell_type": "code",
      "metadata": {
        "id": "x2v3Ytx21N2u"
      },
      "source": [
        "# write the result in a csv file\r\n",
        "new_test_auto.to_csv(\"/content/gdrive/My Drive/Datasets/test_technique/result.csv\", index = True)"
      ],
      "execution_count": 39,
      "outputs": []
    }
  ]
}